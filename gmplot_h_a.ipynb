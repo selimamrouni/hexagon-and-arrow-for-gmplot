{
 "cells": [
  {
   "cell_type": "markdown",
   "metadata": {},
   "source": [
    "# Introduction"
   ]
  },
  {
   "cell_type": "markdown",
   "metadata": {},
   "source": [
    "During Spring 2018, I was involved in a research project in Transportation Analytics. I had to do some GPS data visualizations and especially had to plot figures (hexagons and arrows) using the amazing Python library [gmplot](https://github.com/vgm64/gmplot). This is a super easy package which enables you to draw GPS point representations, but unfortunately there is still no built-in functions for hexagons and arrows. <br>\n",
    "I hope this can help you if you face the same problem ! "
   ]
  },
  {
   "cell_type": "markdown",
   "metadata": {},
   "source": [
    "# Import"
   ]
  },
  {
   "cell_type": "code",
   "execution_count": 1,
   "metadata": {
    "ExecuteTime": {
     "end_time": "2018-06-17T03:43:04.627438Z",
     "start_time": "2018-06-17T03:43:04.139476Z"
    }
   },
   "outputs": [],
   "source": [
    "import gmplot\n",
    "import numpy as np "
   ]
  },
  {
   "cell_type": "markdown",
   "metadata": {},
   "source": [
    "# Parameters"
   ]
  },
  {
   "cell_type": "code",
   "execution_count": 2,
   "metadata": {
    "ExecuteTime": {
     "end_time": "2018-06-17T03:43:04.634620Z",
     "start_time": "2018-06-17T03:43:04.629601Z"
    }
   },
   "outputs": [],
   "source": [
    "columbia_gps = (40.807809, -73.962136)\n",
    "levain_gps = (40.805036, -73.955187)\n",
    "size_hexagon = 0.002\n",
    "size_arrow = 0.0075"
   ]
  },
  {
   "cell_type": "markdown",
   "metadata": {},
   "source": [
    "# Hexagon "
   ]
  },
  {
   "cell_type": "markdown",
   "metadata": {},
   "source": [
    "## Function"
   ]
  },
  {
   "cell_type": "code",
   "execution_count": 3,
   "metadata": {
    "ExecuteTime": {
     "end_time": "2018-06-17T03:43:04.643646Z",
     "start_time": "2018-06-17T03:43:04.637001Z"
    }
   },
   "outputs": [],
   "source": [
    "# this function draws 1 the point of the heagone\n",
    "\n",
    "def hex_corner_draw(center, i, size, init_angle = 90):\n",
    "    \"\"\"\n",
    "    This function is used to draw the different points of the hexagon.\n",
    "    \n",
    "    \n",
    "    The function takes as input:\n",
    "    - center: tuple (lat, lon) which is the center point of the hexagon\n",
    "    - i: integer which is the index of the point which will be drawn\n",
    "    - size: real number which is the size of the hexagon: this is difined as the radius of the hexagon's \n",
    "    inscribed circle\n",
    "    - init_angle: k-arg which is the initial angle, real number which can be changed if wanted (in degree)\n",
    "    \n",
    "    The function returns:\n",
    "    - tuple (lat, lon) of the point we want to draw\n",
    "    \n",
    "\n",
    "\n",
    "    the return is the (lat, lon) of the corresponding corner point of the hexagon\n",
    "\n",
    "    \"\"\"\n",
    "    angle_deg = 60 * i + init_angle\n",
    "    angle_rad = np.pi / 180 * angle_deg\n",
    "    return (center[0] + size * np.sin(angle_rad), center[1] + size * np.cos(angle_rad))"
   ]
  },
  {
   "cell_type": "markdown",
   "metadata": {},
   "source": [
    "## Example"
   ]
  },
  {
   "cell_type": "markdown",
   "metadata": {},
   "source": [
    "In this example, I point the [Alma Mater](https://en.wikipedia.org/wiki/Alma_Mater_(New_York_sculpture) ) using gmplot built-in marker. Alma Mater is a French (clap clap !) designed sculpture which stands at the heart of the Columbia campus: the [Low Library steps](http://www.wikicu.com/Low_Library_stepsAnd). A super relaxing place! <br><br>\n",
    "Then, I draw, as an example, a hexagon whose center is the Alma Mater. "
   ]
  },
  {
   "cell_type": "code",
   "execution_count": 4,
   "metadata": {
    "ExecuteTime": {
     "end_time": "2018-06-17T03:43:05.335347Z",
     "start_time": "2018-06-17T03:43:04.646277Z"
    }
   },
   "outputs": [],
   "source": [
    "#plot the map background\n",
    "gmap = gmplot.GoogleMapPlotter.from_geocode(\"Columbia University\", 15)\n",
    "\n",
    "# Alma Mater Marker \n",
    "gmap.marker(columbia_gps[0], columbia_gps[1], 'cornflowerblue')\n",
    "\n",
    "#list to store the different point of the hexagon \n",
    "L = list()\n",
    "for k in range(6):\n",
    "            point = hex_corner_draw(columbia_gps, k, size_hexagon)\n",
    "            L.append(point)\n",
    "            \n",
    "#get the latitude points \n",
    "list_hex_lat = list(map(lambda x: x[0], L))\n",
    "\n",
    "#get the longitude points \n",
    "list_hex_lon = list(map(lambda x: x[1], L))\n",
    "\n",
    "\n",
    "#plot all the segments \n",
    "for k in range(6):\n",
    "    if k != 5:\n",
    "        lat_ = [list_hex_lat[(k+1)], list_hex_lat[k]]\n",
    "        lon_ = [list_hex_lon[(k+1)], list_hex_lon[k]]\n",
    "    else:\n",
    "        lat_ = [list_hex_lat[0], list_hex_lat[5]]\n",
    "        lon_ = [list_hex_lon[0], list_hex_lon[5]]\n",
    "    gmap.polygon(lat_, lon_, edge_color=\"red\",\n",
    "                 edge_width=5, face_color=\"red\", face_alpha=0.1)\n",
    "\n",
    "\n",
    "gmap.draw('hexagon.html')"
   ]
  },
  {
   "cell_type": "markdown",
   "metadata": {},
   "source": [
    "# Arrow"
   ]
  },
  {
   "cell_type": "markdown",
   "metadata": {},
   "source": [
    "## Function"
   ]
  },
  {
   "cell_type": "code",
   "execution_count": 5,
   "metadata": {
    "ExecuteTime": {
     "end_time": "2018-06-17T03:43:05.404519Z",
     "start_time": "2018-06-17T03:43:05.337444Z"
    }
   },
   "outputs": [],
   "source": [
    "def arrow(center, length_arrow, angle):\n",
    "    \"\"\"\n",
    "    This function is used to draw an arrow.\n",
    "    \n",
    "    \n",
    "    The function takes as input:\n",
    "    - center: tuple (lat, lon) which is the center point of the hexagon\n",
    "    - length: real number of the length of the arrow\n",
    "    - angle: angle of the arrow (in degree)\n",
    "\n",
    "\n",
    "    the return is a list of tuple (latitude, longitude) which is used to draw the arrow\n",
    "\n",
    "    \"\"\"\n",
    "\n",
    "    # let's define the origin of the arrow as the centroi\n",
    "    origin = center\n",
    "    angle_rad = np.pi / 180 * angle\n",
    "\n",
    "    # let's define the vectors pointing the end of the arrow\n",
    "    # each vector point the one point of the arrow\n",
    "    # soi the arrow is entirely defined\n",
    "\n",
    "    vec1 = (length_arrow * np.sin(angle_rad),\n",
    "            length_arrow * np.cos(angle_rad))\n",
    "    vec2 = (-0.4*length_arrow * np.sin(angle_rad + np.pi/12),\n",
    "            -0.4*length_arrow * np.cos(angle_rad + np.pi/12))\n",
    "    vec3 = (-0.4*length_arrow * np.sin(angle_rad - np.pi/12),\n",
    "            -0.4*length_arrow * np.cos(angle_rad - np.pi/12))\n",
    "\n",
    "    point1 = tuple(map(sum, zip(origin, vec1)))\n",
    "    point2 = tuple(map(sum, zip(point1, vec2)))\n",
    "    point3 = tuple(map(sum, zip(point1, vec3)))\n",
    "\n",
    "    draw1 = []\n",
    "    draw1.append(origin)\n",
    "    draw1.append(point1)\n",
    "\n",
    "    draw2 = []\n",
    "    draw2.append(point1)\n",
    "    draw2.append(point2)\n",
    "\n",
    "    draw3 = []\n",
    "    draw3.append(point1)\n",
    "    draw3.append(point3)\n",
    "\n",
    "    result = [draw1, draw2, draw3]\n",
    "\n",
    "\n",
    "    return result"
   ]
  },
  {
   "cell_type": "markdown",
   "metadata": {},
   "source": [
    "## Example"
   ]
  },
  {
   "cell_type": "markdown",
   "metadata": {},
   "source": [
    "Here, I show how to draw an arrow with [gmplot](https://github.com/vgm64/gmplot). It was useful to illustrate the moves of cars in the project. But here I decided to show you something even more interesting: my favorite cookie spot in the area a.k.a. [Levain Bakery](https://www.levainbakery.com/). "
   ]
  },
  {
   "cell_type": "code",
   "execution_count": 6,
   "metadata": {
    "ExecuteTime": {
     "end_time": "2018-06-17T03:43:05.487227Z",
     "start_time": "2018-06-17T03:43:05.406857Z"
    }
   },
   "outputs": [],
   "source": [
    "#plot the map background\n",
    "gmap = gmplot.GoogleMapPlotter.from_geocode(\"Columbia University\", 15)\n",
    "\n",
    "# Alma Mater Marker \n",
    "gmap.marker(columbia_gps[0], columbia_gps[1], 'cornflowerblue')\n",
    "gmap.marker(levain_gps[0], levain_gps[1], 'cornflowerblue')\n",
    "\n",
    "\n",
    "#create the arrow\n",
    "L = arrow(columbia_gps, size_arrow, -21.8)\n",
    "\n",
    "#unpack the tuple to create the lists of latitude and longitude points\n",
    "for l in range(3):\n",
    "    list_arrow_lat = list(map(lambda x: x[0], L[l]))\n",
    "    list_arrow_lon = list(map(lambda x: x[1], L[l]))\n",
    "    gmap.polygon(list_arrow_lat,\n",
    "                 list_arrow_lon,\n",
    "                 edge_color=\"red\", edge_width=8, face_color=\"red\", face_alpha=0.1)\n",
    "\n",
    "gmap.draw('arrow.html')"
   ]
  }
 ],
 "metadata": {
  "kernelspec": {
   "display_name": "Python 3",
   "language": "python",
   "name": "python3"
  },
  "language_info": {
   "codemirror_mode": {
    "name": "ipython",
    "version": 3
   },
   "file_extension": ".py",
   "mimetype": "text/x-python",
   "name": "python",
   "nbconvert_exporter": "python",
   "pygments_lexer": "ipython3",
   "version": "3.6.3"
  },
  "toc": {
   "nav_menu": {},
   "number_sections": true,
   "sideBar": true,
   "skip_h1_title": false,
   "title_cell": "Table of Contents",
   "title_sidebar": "Contents",
   "toc_cell": false,
   "toc_position": {},
   "toc_section_display": true,
   "toc_window_display": false
  },
  "varInspector": {
   "cols": {
    "lenName": 16,
    "lenType": 16,
    "lenVar": 40
   },
   "kernels_config": {
    "python": {
     "delete_cmd_postfix": "",
     "delete_cmd_prefix": "del ",
     "library": "var_list.py",
     "varRefreshCmd": "print(var_dic_list())"
    },
    "r": {
     "delete_cmd_postfix": ") ",
     "delete_cmd_prefix": "rm(",
     "library": "var_list.r",
     "varRefreshCmd": "cat(var_dic_list()) "
    }
   },
   "types_to_exclude": [
    "module",
    "function",
    "builtin_function_or_method",
    "instance",
    "_Feature"
   ],
   "window_display": false
  }
 },
 "nbformat": 4,
 "nbformat_minor": 2
}
